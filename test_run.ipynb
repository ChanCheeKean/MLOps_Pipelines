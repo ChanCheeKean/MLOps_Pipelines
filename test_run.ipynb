{
 "cells": [
  {
   "cell_type": "code",
   "execution_count": 1,
   "metadata": {},
   "outputs": [
    {
     "name": "stdout",
     "output_type": "stream",
     "text": [
      "sagemaker.config INFO - Not applying SDK defaults from location: /Library/Application Support/sagemaker/config.yaml\n",
      "sagemaker.config INFO - Not applying SDK defaults from location: /Users/cheekeanchan/Library/Application Support/sagemaker/config.yaml\n"
     ]
    }
   ],
   "source": [
    "import sagemaker, boto3"
   ]
  },
  {
   "cell_type": "code",
   "execution_count": 2,
   "metadata": {},
   "outputs": [
    {
     "name": "stdout",
     "output_type": "stream",
     "text": [
      "sagemaker.config INFO - Not applying SDK defaults from location: /Library/Application Support/sagemaker/config.yaml\n",
      "sagemaker.config INFO - Not applying SDK defaults from location: /Users/cheekeanchan/Library/Application Support/sagemaker/config.yaml\n"
     ]
    },
    {
     "name": "stderr",
     "output_type": "stream",
     "text": [
      "INFO:sagemaker:Creating training-job with name: ml-infra-pipelines-train-dev-2023-11-13-04-46-12-225\n"
     ]
    },
    {
     "name": "stdout",
     "output_type": "stream",
     "text": [
      "2023-11-13 04:46:14 Starting - Starting the training job...\n",
      "2023-11-13 04:46:39 Starting - Preparing the instances for training......\n",
      "2023-11-13 04:47:34 Downloading - Downloading input data...\n",
      "2023-11-13 04:48:15 Training - Training image download completed. Training in progress.\n",
      "2023-11-13 04:48:15 Uploading - Uploading generated training model\n",
      "2023-11-13 04:48:15 Completed - Training job completed\n",
      "..Training seconds: 42\n",
      "Billable seconds: 42\n"
     ]
    }
   ],
   "source": [
    "TARGET_IMG = 'ml-infra-pipelines-train-dev'\n",
    "OUTPUT_PATH = \"s3://ml-infra-pipelines-dev/output/\"\n",
    "role = 'ml-infra-pipelines-dev-sagemaker'\n",
    "file_location = \"s3://ml-infra-pipelines-dev/sample/training/iris.csv\"\n",
    "\n",
    "sess = sagemaker.Session()\n",
    "account = sess.boto_session.client('sts').get_caller_identity()['Account']\n",
    "region = sess.boto_session.region_name\n",
    "image_uri = f'{account}.dkr.ecr.{region}.amazonaws.com/{TARGET_IMG}:latest'\n",
    "model = sagemaker.estimator.Estimator(\n",
    "    image_uri,\n",
    "    role,\n",
    "    instance_count=1,\n",
    "    instance_type='ml.m4.xlarge',\n",
    "    output_path=OUTPUT_PATH,\n",
    "    sagemaker_session=sess,\n",
    "    enable_cloudwatch_metrics=True,\n",
    ")\n",
    "status = 'succeed'\n",
    "model.fit(file_location)"
   ]
  },
  {
   "cell_type": "code",
   "execution_count": 4,
   "metadata": {},
   "outputs": [
    {
     "name": "stderr",
     "output_type": "stream",
     "text": [
      "a ./temp/decision-tree-model.pkl\n",
      "a ./train/custom_image/inference.py\n"
     ]
    }
   ],
   "source": [
    "import subprocess\n",
    "from time import gmtime, strftime\n",
    "bashCommand = \"tar -cvpzf model.tar.gz ./temp/decision-tree-model.pkl ./train/custom_image/inference.py\"\n",
    "process = subprocess.Popen(bashCommand.split(), stdout=subprocess.PIPE)\n",
    "output, error = process.communicate()"
   ]
  },
  {
   "cell_type": "code",
   "execution_count": 26,
   "metadata": {},
   "outputs": [],
   "source": [
    "model_name = 'ml-infra-iris-predictor'\n",
    "model_package_arn = \"arn:aws:sagemaker:ap-southeast-1:852288348919:model-package/ml-infra-iris-predictor/6\"\n",
    "role = 'ml-infra-pipelines-dev-sagemaker'\n",
    "instance_type = \"ml.c5.xlarge\"\n",
    "instance_count = 1\n",
    "blue_green_deploy = False"
   ]
  },
  {
   "cell_type": "code",
   "execution_count": 15,
   "metadata": {},
   "outputs": [
    {
     "name": "stderr",
     "output_type": "stream",
     "text": [
      "INFO:botocore.credentials:Found credentials in shared credentials file: ~/.aws/credentials\n"
     ]
    }
   ],
   "source": [
    "boto_session = boto3.session.Session()\n",
    "s3 = boto_session.resource('s3')\n",
    "default_bucket = \"ml-infra-pipelines-dev\"\n",
    "filename = 'output/temp/model.tar.gz'\n",
    "\n",
    "response = s3.meta.client.upload_file('model.tar.gz', default_bucket, filename)\n",
    "model_artifacts = f\"s3://{default_bucket}/{filename}\""
   ]
  },
  {
   "cell_type": "code",
   "execution_count": 33,
   "metadata": {},
   "outputs": [],
   "source": [
    "client = boto3.client('sagemaker')\n",
    "iam_client = boto3.client('iam')\n",
    "role_arn = iam_client.get_role(RoleName=role)['Role']['Arn']\n",
    "# client.delete_endpoint(EndpointName=model_name)\n",
    "\n",
    "image_uri = sagemaker.image_uris.retrieve(\n",
    "    framework=\"sklearn\",\n",
    "    region=region,\n",
    "    version=\"0.23-1\",\n",
    "    py_version=\"py3\",\n",
    "    instance_type=\"ml.m5.xlarge\",\n",
    ")\n",
    "\n",
    "model_name = 'ml-infra-iris-predictor'\n",
    "new_config_name = model_name + '-' + strftime(\"%Y-%m-%d-%H-%M-%S\", gmtime())\n",
    "\n",
    "model_response = client.create_model(\n",
    "    ModelName=new_config_name,\n",
    "    Containers=[\n",
    "        {\n",
    "            \"Image\": image_uri,\n",
    "            \"Mode\": \"SingleModel\",\n",
    "            \"ModelDataUrl\": model_artifacts,\n",
    "            \"Environment\": {'SAGEMAKER_SUBMIT_DIRECTORY': model_artifacts,\n",
    "                           'SAGEMAKER_PROGRAM': 'inference.py'} \n",
    "        }\n",
    "    ],\n",
    "    ExecutionRoleArn=role_arn,\n",
    ")\n"
   ]
  },
  {
   "cell_type": "code",
   "execution_count": 34,
   "metadata": {},
   "outputs": [
    {
     "name": "stdout",
     "output_type": "stream",
     "text": [
      "Model arn : arn:aws:sagemaker:ap-southeast-1:852288348919:model/ml-infra-iris-predictor-2023-11-13-05-15-46\n",
      "Error: An error occurred (ValidationException) when calling the DescribeEndpoint operation: Could not find endpoint \"ml-infra-iris-predictor\".. Creating New Endpoint\n",
      "Creating Endpoint\n"
     ]
    },
    {
     "ename": "NameError",
     "evalue": "name 'time' is not defined",
     "output_type": "error",
     "traceback": [
      "\u001b[0;31m---------------------------------------------------------------------------\u001b[0m",
      "\u001b[0;31mNameError\u001b[0m                                 Traceback (most recent call last)",
      "\u001b[1;32m/Users/cheekeanchan/Dev/82 - Cloud/02_MLOps/02_sagemaker_pipeline/test_run.ipynb Cell 7\u001b[0m line \u001b[0;36m6\n\u001b[1;32m     <a href='vscode-notebook-cell:/Users/cheekeanchan/Dev/82%20-%20Cloud/02_MLOps/02_sagemaker_pipeline/test_run.ipynb#X11sZmlsZQ%3D%3D?line=60'>61</a>\u001b[0m     \u001b[39mprint\u001b[39m(\u001b[39mf\u001b[39m\u001b[39m\"\u001b[39m\u001b[39mEndpoint Arn: \u001b[39m\u001b[39m{\u001b[39;00mendpoint_response[\u001b[39m'\u001b[39m\u001b[39mEndpointArn\u001b[39m\u001b[39m'\u001b[39m]\u001b[39m}\u001b[39;00m\u001b[39m\"\u001b[39m)\n\u001b[1;32m     <a href='vscode-notebook-cell:/Users/cheekeanchan/Dev/82%20-%20Cloud/02_MLOps/02_sagemaker_pipeline/test_run.ipynb#X11sZmlsZQ%3D%3D?line=61'>62</a>\u001b[0m     \u001b[39mbreak\u001b[39;00m\n\u001b[0;32m---> <a href='vscode-notebook-cell:/Users/cheekeanchan/Dev/82%20-%20Cloud/02_MLOps/02_sagemaker_pipeline/test_run.ipynb#X11sZmlsZQ%3D%3D?line=62'>63</a>\u001b[0m time\u001b[39m.\u001b[39msleep(\u001b[39m15\u001b[39m)\n",
      "\u001b[0;31mNameError\u001b[0m: name 'time' is not defined"
     ]
    }
   ],
   "source": [
    "### endpoint config creation ###\n",
    "print(\"Model arn : {}\".format(model_response[\"ModelArn\"]))\n",
    "endpoint_config_response = client.create_endpoint_config(\n",
    "    EndpointConfigName=new_config_name,\n",
    "    ProductionVariants=[{\n",
    "        'InstanceType': instance_type,\n",
    "        'InitialInstanceCount': instance_count,\n",
    "        'InitialVariantWeight': 1,\n",
    "        'ModelName': new_config_name,\n",
    "        'VariantName': 'sklearnvariant'\n",
    "        }]\n",
    ")\n",
    "\n",
    "# blue green deployment\n",
    "if blue_green_deploy:\n",
    "    deploy_config = {\n",
    "        \"BlueGreenUpdatePolicy\": {\n",
    "            \"TrafficRoutingConfiguration\": {\n",
    "                \"Type\": \"LINEAR\",\n",
    "                \"LinearStepSize\": {\n",
    "                    \"Type\": \"CAPACITY_PERCENT\",\n",
    "                    \"Value\": 20\n",
    "                    },\n",
    "                \"WaitIntervalInSeconds\": 300\n",
    "                },\n",
    "            \"TerminationWaitInSeconds\": 300,\n",
    "            \"MaximumExecutionTimeoutInSeconds\": 3600\n",
    "            }\n",
    "        }\n",
    "else:\n",
    "    deploy_config = None\n",
    "\n",
    "### endpoint creation ###\n",
    "try:\n",
    "    endpoint_response = client.describe_endpoint(EndpointName=model_name)\n",
    "    client.delete_endpoint(EndpointName=model_name)\n",
    "    print(\"Endpoint Exists, updating...\")\n",
    "    endpoint_exists = True\n",
    "except Exception as e:\n",
    "    print(f\"Error: {e}. Creating New Endpoint\")\n",
    "    endpoint_exists = False\n",
    "\n",
    "# if endpoint_exists:\n",
    "#     endpoint_response = client.update_endpoint(\n",
    "#         EndpointName=model_name,\n",
    "#         EndpointConfigName=new_config_name,\n",
    "#         DeploymentConfig=deploy_config\n",
    "#     )\n",
    "# else:\n",
    "endpoint_create_response = client.create_endpoint(\n",
    "    EndpointName=model_name,\n",
    "    EndpointConfigName=new_config_name\n",
    ")\n",
    "\n",
    "# printing creation status\n",
    "print(\"Creating Endpoint\")\n",
    "while True:\n",
    "    endpoint_response = client.describe_endpoint(EndpointName=model_name)\n",
    "    if endpoint_response[\"EndpointStatus\"] != \"Creating\":\n",
    "        print(endpoint_response[\"EndpointStatus\"])\n",
    "        print(f\"Endpoint Arn: {endpoint_response['EndpointArn']}\")\n",
    "        break\n",
    "    time.sleep(15)"
   ]
  },
  {
   "cell_type": "code",
   "execution_count": 36,
   "metadata": {},
   "outputs": [
    {
     "name": "stdout",
     "output_type": "stream",
     "text": [
      "Creating Endpoint\n",
      "Failed\n",
      "Endpoint Arn: arn:aws:sagemaker:ap-southeast-1:852288348919:endpoint/ml-infra-iris-predictor\n"
     ]
    }
   ],
   "source": [
    "print(\"Creating Endpoint\")\n",
    "while True:\n",
    "    endpoint_response = client.describe_endpoint(EndpointName=model_name)\n",
    "    if endpoint_response[\"EndpointStatus\"] != \"Creating\":\n",
    "        print(endpoint_response[\"EndpointStatus\"])\n",
    "        print(f\"Endpoint Arn: {endpoint_response['EndpointArn']}\")\n",
    "        break\n",
    "    time.sleep(15)"
   ]
  },
  {
   "cell_type": "code",
   "execution_count": 38,
   "metadata": {},
   "outputs": [
    {
     "data": {
      "text/plain": [
       "{'ResponseMetadata': {'RequestId': 'da14e6a3-3e54-4068-ad03-26c48c04b167',\n",
       "  'HTTPStatusCode': 200,\n",
       "  'HTTPHeaders': {'x-amzn-requestid': 'da14e6a3-3e54-4068-ad03-26c48c04b167',\n",
       "   'content-type': 'application/x-amz-json-1.1',\n",
       "   'content-length': '0',\n",
       "   'date': 'Mon, 13 Nov 2023 06:02:48 GMT'},\n",
       "  'RetryAttempts': 0}}"
      ]
     },
     "execution_count": 38,
     "metadata": {},
     "output_type": "execute_result"
    }
   ],
   "source": [
    "client.delete_endpoint(EndpointName=model_name)"
   ]
  },
  {
   "cell_type": "code",
   "execution_count": null,
   "metadata": {},
   "outputs": [],
   "source": []
  }
 ],
 "metadata": {
  "kernelspec": {
   "display_name": "dev",
   "language": "python",
   "name": "python3"
  },
  "language_info": {
   "codemirror_mode": {
    "name": "ipython",
    "version": 3
   },
   "file_extension": ".py",
   "mimetype": "text/x-python",
   "name": "python",
   "nbconvert_exporter": "python",
   "pygments_lexer": "ipython3",
   "version": "3.11.0"
  }
 },
 "nbformat": 4,
 "nbformat_minor": 2
}
